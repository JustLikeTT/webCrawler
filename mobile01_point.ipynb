{
 "cells": [
  {
   "cell_type": "markdown",
   "metadata": {},
   "source": [
    "# Mobile01 爬蟲\n",
    "\n",
    "https://www.mobile01.com\n",
    "爬蟲第一步 先看看網頁\n",
    "\n",
    "https://www.mobile01.com/waypointnewlist.php"
   ]
  },
  {
   "cell_type": "code",
   "execution_count": null,
   "metadata": {},
   "outputs": [],
   "source": [
    "from urllib.request import urlopen\n",
    "from bs4 import BeautifulSoup\n",
    "import re\n",
    "import csv\n",
    "Taichung ='195'\n",
    "Mobile01 = 'https://www.mobile01.com/'\n",
    "new_tables=[]\n",
    "# 只有先找出10頁數\n",
    "for i in range(1,10,1):\n",
    "    html = urlopen(Mobile01+\"waypointtopiclist.php?f=\"+Taichung+'&p='+str(i)) # 台中美食\n",
    "    soup = BeautifulSoup(html, 'html.parser')\n",
    "    tables = soup.find_all('tr')\n",
    "    for table in tables:\n",
    "        myData={'title':'','address':'','replyNum':''}\n",
    "        reply = table.find('td',{'class':'reply'})\n",
    "        if reply == None:\n",
    "            continue\n",
    "        reply_number = int(reply.get_text().encode('utf-8'))\n",
    "        if reply_number<20:\n",
    "            continue\n",
    "        mark_a = table.find('a')\n",
    "        myData['title'] = mark_a.get_text().encode('utf-8')\n",
    "        myData['address'] = (Mobile01 + mark_a['href']).encode('utf-8')\n",
    "        myData['replyNum'] = reply_number\n",
    "        #print(myData)\n",
    "        new_tables.append(myData)\n",
    "        '''for new_table in new_tables:\n",
    "        print(new_table,'\\n')'''   \n",
    "with open('Data.csv', 'w', newline='') as csvfile:\n",
    "    fieldnames = ['title', 'address','replyNum']\n",
    "    writer = csv.DictWriter(csvfile, fieldnames=fieldnames)\n",
    "\n",
    "    writer.writeheader()\n",
    "    for new_table in new_tables:\n",
    "        print(new_table)\n",
    "        writer.writerow({'title': new_table['title'], 'address': new_table['address'],'replyNum': new_table['replyNum']})        "
   ]
  },
  {
   "cell_type": "markdown",
   "metadata": {},
   "source": [
    "## 你想要什麼資料?\n",
    "\n",
    "#篩選留言數\n",
    "#只找出留言數大於20則的文章"
   ]
  },
  {
   "cell_type": "code",
   "execution_count": null,
   "metadata": {
    "collapsed": true
   },
   "outputs": [],
   "source": []
  },
  {
   "cell_type": "markdown",
   "metadata": {},
   "source": [
    "找出留言數大於20的網址"
   ]
  },
  {
   "cell_type": "code",
   "execution_count": null,
   "metadata": {
    "collapsed": true,
    "scrolled": false
   },
   "outputs": [],
   "source": []
  },
  {
   "cell_type": "code",
   "execution_count": null,
   "metadata": {
    "collapsed": true
   },
   "outputs": [],
   "source": []
  },
  {
   "cell_type": "code",
   "execution_count": null,
   "metadata": {
    "collapsed": true
   },
   "outputs": [],
   "source": []
  }
 ],
 "metadata": {
  "kernelspec": {
   "display_name": "Python 3",
   "language": "python",
   "name": "python3"
  },
  "language_info": {
   "codemirror_mode": {
    "name": "ipython",
    "version": 3
   },
   "file_extension": ".py",
   "mimetype": "text/x-python",
   "name": "python",
   "nbconvert_exporter": "python",
   "pygments_lexer": "ipython3",
   "version": "3.6.3"
  }
 },
 "nbformat": 4,
 "nbformat_minor": 2
}
